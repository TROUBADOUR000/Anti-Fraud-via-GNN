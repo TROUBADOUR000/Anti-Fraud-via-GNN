{
 "cells": [
  {
   "cell_type": "code",
   "execution_count": 37,
   "id": "initial_id",
   "metadata": {
    "collapsed": true,
    "ExecuteTime": {
     "end_time": "2023-12-23T14:16:50.492172100Z",
     "start_time": "2023-12-23T14:16:50.397210700Z"
    }
   },
   "outputs": [],
   "source": [
    "import numpy as np\n",
    "import pandas as pd\n",
    "import torch\n",
    "import torch.nn as nn\n",
    "import torch.optim as optim\n",
    "from torch.autograd import Variable\n",
    "from torch.utils.data import DataLoader, TensorDataset\n",
    "import torch.nn.functional as F\n",
    "from sklearn.preprocessing import StandardScaler, MinMaxScaler\n",
    "import pickle\n",
    "import matplotlib.pyplot as plt"
   ]
  },
  {
   "cell_type": "code",
   "execution_count": 38,
   "outputs": [
    {
     "name": "stdout",
     "output_type": "stream",
     "text": [
      "['x', 'y', 'edge_type', 'edge_index', 'train_mask', 'test_mask']\n"
     ]
    }
   ],
   "source": [
    "# 读取 npz 文件\n",
    "data = np.load('data.npz', allow_pickle=True)\n",
    "print(list(data.keys()))"
   ],
   "metadata": {
    "collapsed": false,
    "ExecuteTime": {
     "end_time": "2023-12-23T14:16:50.497521100Z",
     "start_time": "2023-12-23T14:16:50.438091700Z"
    }
   },
   "id": "98365c6ca7ef25d9"
  },
  {
   "cell_type": "code",
   "execution_count": 39,
   "outputs": [],
   "source": [
    "with open(\"extended_graphs_data.pkl\", \"rb\") as file:\n",
    "    data = pickle.load(file)\n",
    "    file.close()"
   ],
   "metadata": {
    "collapsed": false,
    "ExecuteTime": {
     "end_time": "2023-12-23T14:16:50.737368400Z",
     "start_time": "2023-12-23T14:16:50.503194600Z"
    }
   },
   "id": "ef176e009eed30f1"
  },
  {
   "cell_type": "code",
   "execution_count": 40,
   "outputs": [
    {
     "name": "stdout",
     "output_type": "stream",
     "text": [
      "Data(x=[579157, 32], edge_index=[2, 335118], edge_attr=[335118], y=[579157], train_mask=[32342], valid_mask=[8086], test_mask=[193053], edge_direct=[335118])\n"
     ]
    }
   ],
   "source": [
    "print(data)"
   ],
   "metadata": {
    "collapsed": false,
    "ExecuteTime": {
     "end_time": "2023-12-23T14:16:50.738368500Z",
     "start_time": "2023-12-23T14:16:50.682197600Z"
    }
   },
   "id": "cb6ddfd40e5f0b54"
  },
  {
   "cell_type": "code",
   "execution_count": 41,
   "outputs": [
    {
     "name": "stdout",
     "output_type": "stream",
     "text": [
      "x shape: torch.Size([579157, 32])\n",
      "y shape: torch.Size([579157])\n",
      "edge_index shape: torch.Size([2, 335118])\n",
      "edge_type shape: torch.Size([335118])\n",
      "train_mask shape: torch.Size([32342])\n",
      "test_mask shape: torch.Size([193053])\n"
     ]
    }
   ],
   "source": [
    "# 获取数据\n",
    "x = data['x']\n",
    "y = data['y']\n",
    "edge_index = data['edge_index']\n",
    "# edge_type = data['edge_type']\n",
    "edge_type = data['edge_attr']\n",
    "# edge_timestamp = data['edge_timestamp']\n",
    "train_mask = data['train_mask']\n",
    "test_mask = data['test_mask']\n",
    "val_mask = data['valid_mask']\n",
    "\n",
    "# 输出数据的形状\n",
    "print(\"x shape:\", x.shape)\n",
    "print(\"y shape:\", y.shape)\n",
    "print(\"edge_index shape:\", edge_index.shape)\n",
    "print(\"edge_type shape:\", edge_type.shape)\n",
    "# print(\"edge_timestamp shape:\", edge_timestamp.shape)\n",
    "print(\"train_mask shape:\", train_mask.shape)\n",
    "print(\"test_mask shape:\", test_mask.shape)"
   ],
   "metadata": {
    "collapsed": false,
    "ExecuteTime": {
     "end_time": "2023-12-23T14:16:50.819419200Z",
     "start_time": "2023-12-23T14:16:50.697122900Z"
    }
   },
   "id": "ddf455b9236a9b41"
  },
  {
   "cell_type": "code",
   "execution_count": 42,
   "outputs": [
    {
     "data": {
      "text/plain": "tensor([[205686, 469991, 412851,  ..., 411829, 276549, 577465],\n        [359744, 488834, 463368,  ..., 104931,  33545, 210486]])"
     },
     "execution_count": 42,
     "metadata": {},
     "output_type": "execute_result"
    }
   ],
   "source": [
    "edge_index"
   ],
   "metadata": {
    "collapsed": false,
    "ExecuteTime": {
     "end_time": "2023-12-23T14:16:50.824420Z",
     "start_time": "2023-12-23T14:16:50.712961400Z"
    }
   },
   "id": "24347e55b6262a8b"
  },
  {
   "cell_type": "code",
   "execution_count": 43,
   "outputs": [
    {
     "data": {
      "text/plain": "tensor([ 5,  6, 11,  ..., 11, 11,  9])"
     },
     "execution_count": 43,
     "metadata": {},
     "output_type": "execute_result"
    }
   ],
   "source": [
    "edge_type"
   ],
   "metadata": {
    "collapsed": false,
    "ExecuteTime": {
     "end_time": "2023-12-23T14:16:50.866937700Z",
     "start_time": "2023-12-23T14:16:50.726161800Z"
    }
   },
   "id": "3b9c3635bd5d2f82"
  },
  {
   "cell_type": "code",
   "execution_count": 44,
   "outputs": [
    {
     "data": {
      "text/plain": "tensor([[ 0.0000,  6.0000, -1.0000,  ...,  0.0000,  0.0000,  0.0000],\n        [ 0.0000,  3.0000, -1.0000,  ...,  0.0000,  0.0000,  0.0000],\n        [ 0.0000,  5.0000, -1.0000,  ...,  0.0000,  0.0000,  0.0000],\n        ...,\n        [ 1.0000,  4.0000, -1.0000,  ...,  0.0000,  1.0000,  0.9243],\n        [ 0.0000,  3.0000, -1.0000,  ...,  1.0000,  0.0000,  0.0000],\n        [ 1.0000,  4.0000,  1.0100,  ...,  0.0000,  0.0000,  0.0000]])"
     },
     "execution_count": 44,
     "metadata": {},
     "output_type": "execute_result"
    }
   ],
   "source": [
    "x"
   ],
   "metadata": {
    "collapsed": false,
    "ExecuteTime": {
     "end_time": "2023-12-23T14:16:50.903157800Z",
     "start_time": "2023-12-23T14:16:50.742712800Z"
    }
   },
   "id": "6f55816717a71722"
  },
  {
   "cell_type": "code",
   "execution_count": 45,
   "outputs": [
    {
     "data": {
      "text/plain": "tensor([   1,    1,    1,  ...,    0, -100,    0])"
     },
     "execution_count": 45,
     "metadata": {},
     "output_type": "execute_result"
    }
   ],
   "source": [
    "y"
   ],
   "metadata": {
    "collapsed": false,
    "ExecuteTime": {
     "end_time": "2023-12-23T14:16:51.001295900Z",
     "start_time": "2023-12-23T14:16:50.759756200Z"
    }
   },
   "id": "6301603f1cf647de"
  },
  {
   "cell_type": "code",
   "execution_count": 46,
   "outputs": [
    {
     "name": "stdout",
     "output_type": "stream",
     "text": [
      "193053\n",
      "4492\n",
      "381612\n"
     ]
    }
   ],
   "source": [
    "print(np.sum(y.cpu().numpy() == -100))\n",
    "print(np.sum(y.cpu().numpy() == 1))\n",
    "print(np.sum(y.cpu().numpy() == 0))"
   ],
   "metadata": {
    "collapsed": false,
    "ExecuteTime": {
     "end_time": "2023-12-23T14:16:51.002296500Z",
     "start_time": "2023-12-23T14:16:50.774691300Z"
    }
   },
   "id": "10e8841486117fa5"
  },
  {
   "cell_type": "code",
   "execution_count": 47,
   "outputs": [
    {
     "name": "stdout",
     "output_type": "stream",
     "text": [
      "X_train shape: torch.Size([32342, 32])\n",
      "y_train shape: torch.Size([32342])\n",
      "X_val shape: torch.Size([8086, 32])\n",
      "y_val shape: torch.Size([8086])\n",
      "X_test shape: torch.Size([193053, 32])\n",
      "y_test shape: torch.Size([193053])\n"
     ]
    }
   ],
   "source": [
    "from sklearn.model_selection import train_test_split\n",
    "\n",
    "# 根据 train_mask 和 test_mask 划分数据\n",
    "X_train = x[train_mask]\n",
    "y_train = y[train_mask]\n",
    "X_test = x[test_mask]\n",
    "y_test = y[test_mask]\n",
    "X_val = x[val_mask]\n",
    "y_val = y[val_mask]\n",
    "\n",
    "# 将 X_train 进一步划分为训练集和验证集\n",
    "# X_train, X_val, y_train, y_val = train_test_split(X_train, y_train, test_size=0.2, random_state=42)\n",
    "\n",
    "# 输出各数据集的形状\n",
    "print(\"X_train shape:\", X_train.shape)\n",
    "print(\"y_train shape:\", y_train.shape)\n",
    "print(\"X_val shape:\", X_val.shape)\n",
    "print(\"y_val shape:\", y_val.shape)\n",
    "print(\"X_test shape:\", X_test.shape)\n",
    "print(\"y_test shape:\", y_test.shape)"
   ],
   "metadata": {
    "collapsed": false,
    "ExecuteTime": {
     "end_time": "2023-12-23T14:16:51.032074600Z",
     "start_time": "2023-12-23T14:16:50.792774200Z"
    }
   },
   "id": "a513741e5404f76d"
  },
  {
   "cell_type": "code",
   "execution_count": 48,
   "outputs": [
    {
     "name": "stdout",
     "output_type": "stream",
     "text": [
      "train\n",
      "1:  3616  0:  28726\n",
      "val\n",
      "1:  876  0:   7210\n"
     ]
    }
   ],
   "source": [
    "print(\"train\")\n",
    "print('1: ', np.sum(y_train.cpu().numpy() == 1), ' 0: ', np.sum(y_train.cpu().numpy() == 0))\n",
    "print(\"val\")\n",
    "print('1: ', np.sum(y_val.cpu().numpy() == 1), ' 0:  ', np.sum(y_val.cpu().numpy() == 0))"
   ],
   "metadata": {
    "collapsed": false,
    "ExecuteTime": {
     "end_time": "2023-12-23T14:16:51.033081200Z",
     "start_time": "2023-12-23T14:16:50.834425100Z"
    }
   },
   "id": "32f72266c14045c8"
  },
  {
   "cell_type": "code",
   "execution_count": 49,
   "outputs": [
    {
     "data": {
      "text/plain": "'\\nprint(\"train\")\\nprint(\\'1: \\', np.sum(y_train == 1), \\' 0: \\', np.sum(y_train == 0))\\n\\nfrom imblearn.under_sampling import NearMiss\\ntrans = NearMiss(version=3)\\nX_resampled, y_resampled = trans.fit_resample(X_train, y_train)\\n\\nfrom imblearn.over_sampling import RandomOverSampler\\nros = RandomOverSampler(random_state=1)\\nX_resampled, y_resampled = ros.fit_resample(X_train, y_train)\\n\\nfrom imblearn.under_sampling import RandomUnderSampler\\nrus = RandomUnderSampler(sampling_strategy={0: np.sum(y_train == 1) * 3}, random_state=1)\\nX_resampled, y_resampled = rus.fit_resample(X_train, y_train)\\n\\nprint(X_resampled.shape)\\nprint(y_resampled.shape)\\nprint(\\'1: \\', np.sum(y_resampled == 1), \\' 0: \\', np.sum(y_resampled == 0))\\n'"
     },
     "execution_count": 49,
     "metadata": {},
     "output_type": "execute_result"
    }
   ],
   "source": [
    "'''\n",
    "print(\"train\")\n",
    "print('1: ', np.sum(y_train == 1), ' 0: ', np.sum(y_train == 0))\n",
    "\n",
    "from imblearn.under_sampling import NearMiss\n",
    "trans = NearMiss(version=3)\n",
    "X_resampled, y_resampled = trans.fit_resample(X_train, y_train)\n",
    "\n",
    "from imblearn.over_sampling import RandomOverSampler\n",
    "ros = RandomOverSampler(random_state=1)\n",
    "X_resampled, y_resampled = ros.fit_resample(X_train, y_train)\n",
    "\n",
    "from imblearn.under_sampling import RandomUnderSampler\n",
    "rus = RandomUnderSampler(sampling_strategy={0: np.sum(y_train == 1) * 3}, random_state=1)\n",
    "X_resampled, y_resampled = rus.fit_resample(X_train, y_train)\n",
    "\n",
    "print(X_resampled.shape)\n",
    "print(y_resampled.shape)\n",
    "print('1: ', np.sum(y_resampled == 1), ' 0: ', np.sum(y_resampled == 0))\n",
    "'''"
   ],
   "metadata": {
    "collapsed": false,
    "ExecuteTime": {
     "end_time": "2023-12-23T14:16:51.133034900Z",
     "start_time": "2023-12-23T14:16:51.037168Z"
    }
   },
   "id": "23f20f254e9d1544"
  },
  {
   "cell_type": "code",
   "execution_count": 50,
   "outputs": [],
   "source": [
    "class CNN(nn.Module):\n",
    "    def __init__(self):\n",
    "        super(CNN, self).__init__()\n",
    "        # Layer 1\n",
    "        self.conv1 = nn.Conv1d(in_channels=32, out_channels=128, kernel_size=3, stride=1, padding=1)\n",
    "        self.pool1 = nn.MaxPool1d(kernel_size=1, stride=1)\n",
    "        self.drop1 = nn.Dropout(p=0.1)\n",
    "\n",
    "        # Layer 2\n",
    "        self.conv2 = nn.Conv1d(in_channels=128, out_channels=256, kernel_size=3, stride=1, padding=1)\n",
    "        self.pool2 = nn.MaxPool1d(kernel_size=1, stride=1)\n",
    "        self.drop2 = nn.Dropout(p=0.1)\n",
    "        \n",
    "        # layer 3\n",
    "        self.linear1 = nn.Linear(in_features=256,out_features=32)\n",
    "        self.drop3 = nn.Dropout(p=0.1)\n",
    "\n",
    "        # Fully Connected Layers\n",
    "        self.fc1 = nn.Linear(32, 16)\n",
    "        self.drop4 = nn.Dropout(p=0.1)\n",
    "        self.fc2 = nn.Linear(16, 1)\n",
    "\n",
    "    def forward(self, x):\n",
    "        x = x.view(x.size(0), x.size(1), -1)\n",
    "        out = self.drop1(self.pool1(F.relu(self.conv1(x))))\n",
    "        out = self.drop2(self.pool2(F.relu(self.conv2(out))))\n",
    "        out = out.view(out.size(0), -1)\n",
    "        out = self.drop3(F.relu(self.linear1(out)))\n",
    "        out = self.drop4(F.relu(self.fc1(out)))\n",
    "        out = self.fc2(out)\n",
    "        out = torch.sigmoid(out)\n",
    "        return out"
   ],
   "metadata": {
    "collapsed": false,
    "ExecuteTime": {
     "end_time": "2023-12-23T14:16:51.168257400Z",
     "start_time": "2023-12-23T14:16:51.083869600Z"
    }
   },
   "id": "d0346e543f3e8c8e"
  },
  {
   "cell_type": "code",
   "execution_count": 51,
   "outputs": [],
   "source": [
    "def train(model, train_loader, criterion, optimizer, scheduler=None, val_loader=None, epochs=50):\n",
    "    best_val_loss = float('inf')\n",
    "    \n",
    "    train_losses = []\n",
    "    valid_losses = []\n",
    "    \n",
    "    model.train()\n",
    "    for epoch in range(epochs):\n",
    "        running_loss = 0.0\n",
    "        val_loss = 0.0\n",
    "        for inputs, labels in train_loader:\n",
    "            optimizer.zero_grad()\n",
    "            outputs = model(inputs)\n",
    "\n",
    "            # print(outputs.shape, ' ', labels.shape)\n",
    "            \n",
    "            labels = labels.unsqueeze(1)\n",
    "            loss = criterion(outputs, labels)\n",
    "            loss.backward()\n",
    "            optimizer.step()\n",
    "            running_loss += loss.item()\n",
    "            \n",
    "        train_losses.append(running_loss/len(train_loader))\n",
    "        \n",
    "        if val_loader:\n",
    "            model.eval()\n",
    "            with torch.no_grad():\n",
    "                for inputs, labels in val_loader:\n",
    "                    output = model(inputs)\n",
    "                    labels = labels.unsqueeze(1)\n",
    "                    loss = criterion(output, labels)\n",
    "                    val_loss += loss.item()\n",
    "                val_loss /= len(val_loader)\n",
    "            if val_loss < best_val_loss:\n",
    "                    best_val_loss = val_loss\n",
    "                    torch.save(model.state_dict(), \"CNN.pth\")\n",
    "            valid_losses.append(val_loss)\n",
    "            \n",
    "        if scheduler:\n",
    "            scheduler.step()\n",
    "        if val_loader:\n",
    "            print(f'Epoch {epoch+1}/{epochs}, train Loss: {running_loss/len(train_loader)}, val Loss: {val_loss}')\n",
    "        else:\n",
    "            print(f'Epoch {epoch+1}/{epochs}, train Loss: {running_loss/len(train_loader)}')\n",
    "            \n",
    "    plt.plot(range(1, epochs + 1), train_losses, label='Train Loss')\n",
    "    plt.plot(range(1, epochs + 1), valid_losses, label='Valid Loss')\n",
    "    plt.title('Loss Variation Over Epochs')\n",
    "    plt.xlabel('Epochs')\n",
    "    plt.ylabel('Loss')\n",
    "    plt.legend()\n",
    "    plt.show()"
   ],
   "metadata": {
    "collapsed": false,
    "ExecuteTime": {
     "end_time": "2023-12-23T14:16:51.214572100Z",
     "start_time": "2023-12-23T14:16:51.148153700Z"
    }
   },
   "id": "449955420db37453"
  },
  {
   "cell_type": "code",
   "execution_count": 52,
   "outputs": [],
   "source": [
    "def predict(model, test_data):\n",
    "    model.eval()\n",
    "    with torch.no_grad():\n",
    "        outputs = model(test_data)\n",
    "    return outputs"
   ],
   "metadata": {
    "collapsed": false,
    "ExecuteTime": {
     "end_time": "2023-12-23T14:16:51.277612700Z",
     "start_time": "2023-12-23T14:16:51.222092800Z"
    }
   },
   "id": "87e1e7de49424843"
  },
  {
   "cell_type": "code",
   "execution_count": 53,
   "outputs": [
    {
     "name": "stdout",
     "output_type": "stream",
     "text": [
      "Epoch 1/50, train Loss: 0.3581422650673258, val Loss: 0.30493484856560826\n",
      "Epoch 2/50, train Loss: 0.3070221882401489, val Loss: 0.30459516402333975\n",
      "Epoch 3/50, train Loss: 0.30476545642210745, val Loss: 0.3000266430899501\n",
      "Epoch 4/50, train Loss: 0.30405147455808684, val Loss: 0.3034413633868098\n",
      "Epoch 5/50, train Loss: 0.3029834943728184, val Loss: 0.2990617314353585\n",
      "Epoch 6/50, train Loss: 0.30241186600031816, val Loss: 0.29894408537074924\n",
      "Epoch 7/50, train Loss: 0.3035843450957396, val Loss: 0.2986743254587054\n",
      "Epoch 8/50, train Loss: 0.30202893161867544, val Loss: 0.29887610767036676\n",
      "Epoch 9/50, train Loss: 0.30145952469251286, val Loss: 0.3017689837142825\n",
      "Epoch 10/50, train Loss: 0.3011189656933462, val Loss: 0.29716156935319304\n",
      "Epoch 11/50, train Loss: 0.3004086353178099, val Loss: 0.2977369991131127\n",
      "Epoch 12/50, train Loss: 0.30009675119805523, val Loss: 0.29734909534454346\n",
      "Epoch 13/50, train Loss: 0.29994423441060886, val Loss: 0.2960372478701174\n",
      "Epoch 14/50, train Loss: 0.29914612411044716, val Loss: 0.29721950739622116\n",
      "Epoch 15/50, train Loss: 0.29991583150672163, val Loss: 0.2992157153785229\n",
      "Epoch 16/50, train Loss: 0.29953265213590907, val Loss: 0.2975274254567921\n",
      "Epoch 17/50, train Loss: 0.299431801546277, val Loss: 0.30000963155180216\n",
      "Epoch 18/50, train Loss: 0.29970995894097907, val Loss: 0.29953738395124674\n",
      "Epoch 19/50, train Loss: 0.29923225681143484, val Loss: 0.2964945351704955\n",
      "Epoch 20/50, train Loss: 0.29848343474189126, val Loss: 0.296341841109097\n",
      "Epoch 21/50, train Loss: 0.29818836722786973, val Loss: 0.2968298983760178\n",
      "Epoch 22/50, train Loss: 0.2978254740867089, val Loss: 0.2958618993870914\n",
      "Epoch 23/50, train Loss: 0.2981368960358026, val Loss: 0.29709626641124487\n",
      "Epoch 24/50, train Loss: 0.2975274977956231, val Loss: 0.2964616850949824\n",
      "Epoch 25/50, train Loss: 0.2972832085110071, val Loss: 0.2968304860405624\n",
      "Epoch 26/50, train Loss: 0.29807625030438734, val Loss: 0.2979332464747131\n",
      "Epoch 27/50, train Loss: 0.2970348124898325, val Loss: 0.2971606431528926\n",
      "Epoch 28/50, train Loss: 0.2973274525225632, val Loss: 0.2965218620374799\n",
      "Epoch 29/50, train Loss: 0.2975295109777, val Loss: 0.29746168246492743\n",
      "Epoch 30/50, train Loss: 0.2972442760007588, val Loss: 0.29730235831812024\n",
      "Epoch 31/50, train Loss: 0.2966889795355909, val Loss: 0.29575430741533637\n",
      "Epoch 32/50, train Loss: 0.2969726599811569, val Loss: 0.29740412440150976\n",
      "Epoch 33/50, train Loss: 0.2965032520491307, val Loss: 0.29703275253996253\n",
      "Epoch 34/50, train Loss: 0.296906685735297, val Loss: 0.29710662504658103\n",
      "Epoch 35/50, train Loss: 0.29676843675102776, val Loss: 0.29718336649239063\n",
      "Epoch 36/50, train Loss: 0.29606741866258185, val Loss: 0.296915958635509\n",
      "Epoch 37/50, train Loss: 0.29631584741937833, val Loss: 0.2966964370571077\n",
      "Epoch 38/50, train Loss: 0.29694975548841823, val Loss: 0.2957187322899699\n",
      "Epoch 39/50, train Loss: 0.29682358008200727, val Loss: 0.29637993685901165\n",
      "Epoch 40/50, train Loss: 0.29693529244482986, val Loss: 0.2970775393769145\n",
      "Epoch 41/50, train Loss: 0.2964650248214016, val Loss: 0.29752637492492795\n",
      "Epoch 42/50, train Loss: 0.29602804862138793, val Loss: 0.2962362878024578\n",
      "Epoch 43/50, train Loss: 0.29593969025011135, val Loss: 0.2977613741531968\n",
      "Epoch 44/50, train Loss: 0.29567256945324694, val Loss: 0.2959049427881837\n",
      "Epoch 45/50, train Loss: 0.29604596638773367, val Loss: 0.2961289957165718\n",
      "Epoch 46/50, train Loss: 0.29651551195016995, val Loss: 0.29667004430666566\n",
      "Epoch 47/50, train Loss: 0.29569748044013977, val Loss: 0.2969122086651623\n",
      "Epoch 48/50, train Loss: 0.2955136744994817, val Loss: 0.29705779533833265\n",
      "Epoch 49/50, train Loss: 0.2961132654289561, val Loss: 0.2963175540789962\n",
      "Epoch 50/50, train Loss: 0.2962583954644015, val Loss: 0.29809223441407084\n"
     ]
    },
    {
     "data": {
      "text/plain": "<Figure size 640x480 with 1 Axes>",
      "image/png": "[encoded data removed]"
     },
     "metadata": {},
     "output_type": "display_data"
    }
   ],
   "source": [
    "model = CNN()\n",
    "\n",
    "# 定义损失函数和优化器\n",
    "criterion = nn.BCELoss()\n",
    "# optimizer = optim.SGD(model.parameters(), lr=0.001, weight_decay=1e-5)\n",
    "optimizer = optim.Adam(model.parameters(), lr=0.001, weight_decay=1e-7)\n",
    "scheduler = optim.lr_scheduler.StepLR(optimizer, step_size=10, gamma=0.5)\n",
    "\n",
    "batch_size = 256\n",
    "epoch_num = 50\n",
    "\n",
    "X_train = X_train.float()\n",
    "y_train = y_train.float()\n",
    "X_val = X_val.float()\n",
    "y_val = y_val.float()\n",
    "\n",
    "train_dataset = TensorDataset(X_train, y_train)\n",
    "train_loader = DataLoader(train_dataset, batch_size=batch_size, shuffle=True)\n",
    "val_dataset = TensorDataset(X_val, y_val)\n",
    "val_loader = DataLoader(val_dataset, batch_size=batch_size, shuffle=True)\n",
    "\n",
    "train(model, train_loader, criterion, optimizer, scheduler=scheduler, val_loader=val_loader, epochs=epoch_num)"
   ],
   "metadata": {
    "collapsed": false,
    "ExecuteTime": {
     "end_time": "2023-12-23T14:18:38.068127800Z",
     "start_time": "2023-12-23T14:16:51.256608600Z"
    }
   },
   "id": "7b2cb4d7749ceff5"
  },
  {
   "cell_type": "code",
   "execution_count": 54,
   "outputs": [
    {
     "name": "stdout",
     "output_type": "stream",
     "text": [
      "AUC on validation set: 0.7610522390895444\n"
     ]
    }
   ],
   "source": [
    "from sklearn.metrics import roc_auc_score\n",
    "\n",
    "model = CNN()\n",
    "model.load_state_dict(torch.load('CNN.pth'))\n",
    "\n",
    "# 在验证循环中，获取模型输出的概率\n",
    "model.eval()\n",
    "all_preds = []\n",
    "all_labels = []\n",
    "\n",
    "with torch.no_grad():\n",
    "    for inputs, labels in val_loader:\n",
    "        outputs = model(inputs)\n",
    "        preds = outputs.squeeze()  # 去掉维度为1的维度，得到概率值\n",
    "        all_preds.extend(preds.cpu().numpy())\n",
    "        all_labels.extend(labels.cpu().numpy())\n",
    "\n",
    "# 将列表转换为numpy数组\n",
    "all_preds = np.array(all_preds)\n",
    "all_labels = np.array(all_labels)\n",
    "\n",
    "# 计算AUC值\n",
    "auc_value = roc_auc_score(all_labels, all_preds)\n",
    "\n",
    "print(f'AUC on validation set: {auc_value}')"
   ],
   "metadata": {
    "collapsed": false,
    "ExecuteTime": {
     "end_time": "2023-12-23T14:18:38.287657200Z",
     "start_time": "2023-12-23T14:18:38.071298900Z"
    }
   },
   "id": "79d3d76395e91d71"
  },
  {
   "cell_type": "code",
   "execution_count": 55,
   "outputs": [],
   "source": [
    "import pandas as pd\n",
    "\n",
    "# 将模型设为评估模式\n",
    "model.eval()\n",
    "\n",
    "# 使用 torch.no_grad() 确保在推理时不进行梯度计算\n",
    "with torch.no_grad():\n",
    "    test_outputs = model(X_test)\n",
    "    preds = test_outputs.squeeze()\n",
    "\n",
    "# 将索引和预测概率保存到 DataFrame\n",
    "result_df = pd.DataFrame({'index': test_mask, 'predict': preds.cpu().numpy()})\n",
    "\n",
    "# 将结果保存到 CSV 文件\n",
    "result_df.to_csv('CNN.csv', index=False)"
   ],
   "metadata": {
    "collapsed": false,
    "ExecuteTime": {
     "end_time": "2023-12-23T14:18:39.990946600Z",
     "start_time": "2023-12-23T14:18:38.291766800Z"
    }
   },
   "id": "ee401ee59dac36d2"
  }
 ],
 "metadata": {
  "kernelspec": {
   "display_name": "Python 3",
   "language": "python",
   "name": "python3"
  },
  "language_info": {
   "codemirror_mode": {
    "name": "ipython",
    "version": 2
   },
   "file_extension": ".py",
   "mimetype": "text/x-python",
   "name": "python",
   "nbconvert_exporter": "python",
   "pygments_lexer": "ipython2",
   "version": "2.7.6"
  }
 },
 "nbformat": 4,
 "nbformat_minor": 5
}
