{
 "cells": [
  {
   "cell_type": "code",
   "execution_count": 1,
   "id": "initial_id",
   "metadata": {
    "collapsed": true,
    "ExecuteTime": {
     "end_time": "2024-01-01T13:09:39.792341100Z",
     "start_time": "2024-01-01T13:09:25.616131300Z"
    }
   },
   "outputs": [],
   "source": [
    "import torch.nn.functional as F\n",
    "from torch_geometric.nn import GCNConv, GATConv, GINConv, GAE, EdgeConv # SAGEConv\n",
    "import torch_geometric.nn as gnn\n",
    "from torch import  nn\n",
    "\n",
    "from torch_geometric.loader import NeighborSampler\n",
    "from tqdm import tqdm\n",
    "\n",
    "import numpy as np\n",
    "import pandas as pd\n",
    "from sklearn.metrics import roc_auc_score, accuracy_score\n",
    "\n",
    "import torch\n",
    "import torch.optim as optim\n",
    "from torch.utils.data import DataLoader\n",
    "import pickle\n",
    "import matplotlib.pyplot as plt\n",
    "from torch import Tensor\n",
    "from torch_sparse import SparseTensor\n",
    "from typing import Union"
   ]
  },
  {
   "cell_type": "code",
   "execution_count": 2,
   "outputs": [],
   "source": [
    "import torch_geometric\n",
    "import torch_scatter as scatter\n",
    "import networkx as nx\n",
    "\n",
    "def add_label_feature(x, y):\n",
    "    y = y.clone()\n",
    "    # All fraudulent nodes are temporarily considered as normal users to simulate the scenario of mining fraudulent users from normal users.\n",
    "    y[y == 1] = 0\n",
    "    y[y == -100] = 0\n",
    "    y_one_hot = F.one_hot(y).squeeze()\n",
    "    print(y_one_hot.shape, ' ', x.shape)\n",
    "    return torch.cat((x, y_one_hot.unsqueeze(dim=1)), dim=1)\n",
    "\n",
    "\n",
    "def add_label_counts(x, edge_index, y):\n",
    "    y = y.clone().squeeze()\n",
    "    background_nodes = torch.logical_or(y == 2, y == 3)\n",
    "    foreground_nodes = torch.logical_and(y != 2, y != 3)\n",
    "    y[background_nodes] = 1\n",
    "    y[foreground_nodes] = 0\n",
    "\n",
    "    row, col = edge_index\n",
    "    a = F.one_hot(y[col])\n",
    "    b = F.one_hot(y[row])\n",
    "    temp = scatter.scatter(a, row, dim=0, dim_size=y.size(0), reduce=\"sum\")\n",
    "    temp += scatter.scatter(b, col, dim=0, dim_size=y.size(0), reduce=\"sum\")\n",
    "\n",
    "    return torch.cat([x, temp.to(x)], dim=1)\n",
    "\n",
    "def add_feature_flag(x):\n",
    "    feature_flag = torch.zeros_like(x[:, :17])\n",
    "    feature_flag[x[:, :17] == -1] = 1\n",
    "    x[x == -1] = 0\n",
    "    return torch.cat((x, feature_flag), dim=1)\n",
    "\n",
    "def add_degree_feature(x, edge_index):\n",
    "    row, col = edge_index\n",
    "    in_degree = torch_geometric.utils.degree(col, x.size(0), x.dtype)\n",
    "\n",
    "    out_degree = torch_geometric.utils.degree(row, x.size(0), x.dtype)\n",
    "    return torch.cat([x, in_degree.view(-1, 1), out_degree.view(-1, 1)], dim=1)\n",
    "\n",
    "\n",
    "def aa_index(x, edge_index):\n",
    "    graph = nx.Graph()\n",
    "    graph.add_edges_from(edge_index.cpu().numpy().T)\n",
    "    aa_index = {}\n",
    "\n",
    "    for node in graph.nodes():\n",
    "        aa_index[node] = 0.0\n",
    "        neighbors = set(graph.neighbors(node))\n",
    "\n",
    "        for neighbor in neighbors:\n",
    "            common_neighbors = set(graph.neighbors(neighbor)).intersection(neighbors)\n",
    "            if len(common_neighbors) > 0:\n",
    "                aa_index[node] += 1 / np.log(len(common_neighbors)) if len(common_neighbors) > 1 else 0\n",
    "                \n",
    "    aa_feature = np.array([aa_index[node] for node in graph.nodes()])\n",
    "    aa_feature = aa_feature.reshape(-1, 1)\n",
    "    x_with_aa = np.concatenate((x, aa_feature), axis=1)\n",
    "    return x_with_aa\n",
    "\n",
    "\n",
    "def cos_sim_sum(x, edge_index):\n",
    "    row, col = edge_index\n",
    "    sim = F.cosine_similarity(x[row], x[col])\n",
    "    sim_sum = scatter.scatter(sim, row, dim=0, dim_size=x.size(0), reduce=\"sum\")\n",
    "    return torch.cat([x, torch.unsqueeze(sim_sum, dim=1)], dim=1)\n",
    "\n",
    "\n",
    "def to_undirected(edge_index, edge_attr):\n",
    "    row, col = edge_index\n",
    "    row, col = torch.cat([row, col], dim=0), torch.cat([col, row], dim=0)\n",
    "    edge_index = torch.stack([row, col], dim=0)\n",
    "\n",
    "    edge_attr = torch.cat([edge_attr, edge_attr], dim=0)\n",
    "    return edge_index, edge_attr\n",
    "\n",
    "\n",
    "def data_process(data):\n",
    "    edge_index, edge_attr = (\n",
    "        data.edge_index,\n",
    "        data.edge_attr,\n",
    "    )\n",
    "\n",
    "    x = data.x\n",
    "    x = add_degree_feature(x, edge_index)\n",
    "    x = cos_sim_sum(x, edge_index)\n",
    "    # x = aa_index(x, edge_index)\n",
    "    \n",
    "    edge_index, edge_attr = to_undirected(\n",
    "        edge_index, edge_attr\n",
    "    )\n",
    "    mask = edge_index[0] < edge_index[1]\n",
    "    edge_index = edge_index[:, mask]\n",
    "    edge_attr = edge_attr[mask]\n",
    "    data.edge_index, data.edge_attr = to_undirected(\n",
    "        edge_index, edge_attr\n",
    "    )\n",
    "\n",
    "    data.edge_direct = torch.ones(data.edge_attr.size(0), dtype=torch.long)\n",
    "    data.edge_direct[: data.edge_attr.size(0) // 2] = 0\n",
    "    \n",
    "    # x = add_feature_flag(x)\n",
    "    # x = add_label_counts(x, edge_index, data.y)\n",
    "    # x = add_label_feature(x, data.y)\n",
    "    \n",
    "    data.x = x\n",
    "    if data.y.dim() == 2:\n",
    "        data.y = data.y.squeeze(1)\n",
    "    return data"
   ],
   "metadata": {
    "collapsed": false,
    "ExecuteTime": {
     "end_time": "2024-01-01T13:09:40.214475300Z",
     "start_time": "2024-01-01T13:09:39.805905100Z"
    }
   },
   "id": "26485d08a753ae6b"
  },
  {
   "cell_type": "code",
   "execution_count": 3,
   "outputs": [],
   "source": [
    "# with open(\"graphs_balance_data.pkl\", \"rb\") as file:\n",
    "with open(\"graphs_data2.pkl\", \"rb\") as file:\n",
    "    data = pickle.load(file)\n",
    "    file.close()"
   ],
   "metadata": {
    "collapsed": false,
    "ExecuteTime": {
     "end_time": "2024-01-01T13:09:40.482266200Z",
     "start_time": "2024-01-01T13:09:40.198316100Z"
    }
   },
   "id": "541c09544975d017"
  },
  {
   "cell_type": "code",
   "execution_count": 4,
   "outputs": [
    {
     "name": "stdout",
     "output_type": "stream",
     "text": [
      "Data(x=[579157, 29], edge_index=[2, 167559], edge_attr=[167559], y=[579157, 1], train_mask=[231662], valid_mask=[154442], test_mask=[193053])\n"
     ]
    }
   ],
   "source": [
    "print(data)"
   ],
   "metadata": {
    "collapsed": false,
    "ExecuteTime": {
     "end_time": "2024-01-01T13:09:40.519329Z",
     "start_time": "2024-01-01T13:09:40.468239900Z"
    }
   },
   "id": "584c83508d7d882"
  },
  {
   "cell_type": "code",
   "execution_count": 5,
   "outputs": [],
   "source": [
    "data = data_process(data)"
   ],
   "metadata": {
    "collapsed": false,
    "ExecuteTime": {
     "end_time": "2024-01-01T13:09:40.782678Z",
     "start_time": "2024-01-01T13:09:40.497293300Z"
    }
   },
   "id": "5054f5c28880dbe5"
  },
  {
   "cell_type": "code",
   "execution_count": 6,
   "outputs": [
    {
     "name": "stdout",
     "output_type": "stream",
     "text": [
      "Data(x=[579157, 32], edge_index=[2, 335118], edge_attr=[335118], y=[579157], train_mask=[231662], valid_mask=[154442], test_mask=[193053], edge_direct=[335118])\n"
     ]
    }
   ],
   "source": [
    "print(data)"
   ],
   "metadata": {
    "collapsed": false,
    "ExecuteTime": {
     "end_time": "2024-01-01T13:09:40.849455600Z",
     "start_time": "2024-01-01T13:09:40.783677900Z"
    }
   },
   "id": "46567018b398323"
  },
  {
   "cell_type": "code",
   "execution_count": 7,
   "outputs": [
    {
     "name": "stdout",
     "output_type": "stream",
     "text": [
      "cuda\n"
     ]
    }
   ],
   "source": [
    "device = torch.device(\"cuda\" if torch.cuda.is_available() else \"cpu\")\n",
    "print(device)"
   ],
   "metadata": {
    "collapsed": false,
    "ExecuteTime": {
     "end_time": "2024-01-01T13:09:42.248493900Z",
     "start_time": "2024-01-01T13:09:40.813409700Z"
    }
   },
   "id": "1408cae7da9f5d1f"
  },
  {
   "cell_type": "code",
   "execution_count": 8,
   "outputs": [],
   "source": [
    "split_idx = {'train':data.train_mask, 'valid':data.valid_mask, 'test':data.test_mask}\n",
    "data = data.to(device)\n",
    "train_idx = split_idx['train'].to(device)\n",
    "\n",
    "data.train_pos = train_idx[data.y[train_idx] == 1]\n",
    "data.train_neg = train_idx[data.y[train_idx] == 0]"
   ],
   "metadata": {
    "collapsed": false,
    "ExecuteTime": {
     "end_time": "2024-01-01T13:09:47.362082900Z",
     "start_time": "2024-01-01T13:09:42.228979600Z"
    }
   },
   "id": "5f3b207477840ff5"
  },
  {
   "cell_type": "code",
   "execution_count": 9,
   "outputs": [
    {
     "name": "stdout",
     "output_type": "stream",
     "text": [
      "4492\n",
      "2671\n",
      "1821\n"
     ]
    }
   ],
   "source": [
    "print(np.sum(data.y.cpu().numpy() == 1))\n",
    "print(np.sum(data.y[data.train_mask].cpu().numpy() == 1))\n",
    "print(np.sum(data.y[data.valid_mask].cpu().numpy() == 1))"
   ],
   "metadata": {
    "collapsed": false,
    "ExecuteTime": {
     "end_time": "2024-01-01T13:09:47.447613200Z",
     "start_time": "2024-01-01T13:09:47.363586900Z"
    }
   },
   "id": "84c1943272ac8588"
  },
  {
   "cell_type": "code",
   "execution_count": 10,
   "outputs": [],
   "source": [
    "def creat_activation_layer(activation):\n",
    "    if activation is None:\n",
    "        return nn.Identity()\n",
    "    elif activation == \"relu\":\n",
    "        return nn.ReLU()\n",
    "    elif activation == \"elu\":\n",
    "        return nn.ELU()\n",
    "    else:\n",
    "        raise ValueError(\"Unknown activation\")"
   ],
   "metadata": {
    "collapsed": false,
    "ExecuteTime": {
     "end_time": "2024-01-01T13:09:47.450130300Z",
     "start_time": "2024-01-01T13:09:47.426961500Z"
    }
   },
   "id": "80d87b63ffa21e4d"
  },
  {
   "cell_type": "code",
   "execution_count": 11,
   "outputs": [],
   "source": [
    "from typing import Tuple, Union\n",
    "from torch import Tensor, nn\n",
    "from torch_geometric.nn.dense.linear import Linear\n",
    "from torch_geometric.typing import OptPairTensor\n",
    "\n",
    "class SAGEConv(torch.nn.Module):\n",
    "    def __init__(\n",
    "        self,\n",
    "        in_channels: Union[int, Tuple[int, int]],\n",
    "        out_channels: int,\n",
    "        normalize: bool = False,\n",
    "        bias: bool = True,\n",
    "    ):\n",
    "        super().__init__()\n",
    "\n",
    "        self.in_channels = in_channels\n",
    "        self.out_channels = out_channels\n",
    "        self.normalize = normalize\n",
    "\n",
    "        if isinstance(in_channels, int):\n",
    "            in_channels = (in_channels, in_channels)\n",
    "        self.lin_m = Linear(in_channels[0], out_channels, bias=bias)\n",
    "        self.lin_r = Linear(in_channels[1], out_channels, bias=bias)\n",
    "\n",
    "    def reset_parameters(self):\n",
    "        self.lin_r.reset_parameters()\n",
    "\n",
    "        self.lin_m.reset_parameters()\n",
    "\n",
    "    def forward(\n",
    "        self,\n",
    "        x: Union[Tensor, OptPairTensor],\n",
    "        edge_index: Tensor,\n",
    "        edge_attr: Tensor,\n",
    "    ) -> Tensor:\n",
    "\n",
    "        alpha = 0.5\n",
    "        \n",
    "        row, col = edge_index\n",
    "        x_j = torch.cat([x[col], edge_attr], dim=1)\n",
    "        x_j = scatter.scatter(x_j, row, dim=0, dim_size=x.size(0), reduce=\"sum\")\n",
    "        x_j = self.lin_m(x_j)\n",
    "        x_i = self.lin_r(x)\n",
    "        out = alpha * x_j + x_i\n",
    "\n",
    "        if self.normalize:\n",
    "            out = F.normalize(out, p=2.0, dim=-1)\n",
    "\n",
    "        return out"
   ],
   "metadata": {
    "collapsed": false,
    "ExecuteTime": {
     "end_time": "2024-01-01T13:09:47.513144200Z",
     "start_time": "2024-01-01T13:09:47.446613200Z"
    }
   },
   "id": "67742f57b9e9220f"
  },
  {
   "cell_type": "code",
   "execution_count": 12,
   "outputs": [],
   "source": [
    "class SAGE(nn.Module):\n",
    "    def __init__(\n",
    "        self,\n",
    "        in_channels,\n",
    "        hidden_channels,\n",
    "        out_channels,\n",
    "        edge_attr_channels=49,\n",
    "        num_layers=3,\n",
    "        dropout=0.3,\n",
    "        bn=True,\n",
    "        activation=\"elu\",\n",
    "    ):\n",
    "\n",
    "        super().__init__()\n",
    "        self.convs = nn.ModuleList()\n",
    "        self.bns = nn.ModuleList()\n",
    "        bn = nn.BatchNorm1d if bn else nn.Identity\n",
    "\n",
    "        for i in range(num_layers):\n",
    "            first_channels = in_channels if i == 0 else hidden_channels\n",
    "            second_channels = 64 if i == num_layers - 1 else hidden_channels\n",
    "            # second_channels = hidden_channels\n",
    "            self.convs.append(\n",
    "                SAGEConv(\n",
    "                    (\n",
    "                        first_channels + edge_attr_channels,\n",
    "                        first_channels,\n",
    "                    ),\n",
    "                    second_channels,\n",
    "                )\n",
    "            )\n",
    "            self.bns.append(bn(second_channels))\n",
    "        \n",
    "        self.regression = nn.Sequential(\n",
    "            nn.Linear(64, 8),\n",
    "            nn.Dropout(0.3),\n",
    "            nn.ELU(),\n",
    "            nn.Linear(8, out_channels),\n",
    "        )\n",
    "        \n",
    "        self.dropout = nn.Dropout(dropout)\n",
    "        self.activation = creat_activation_layer(activation)\n",
    "        self.emb_type = nn.Embedding(12, edge_attr_channels)\n",
    "        self.emb_direction = nn.Embedding(2, edge_attr_channels)\n",
    "        self.reset_parameters()\n",
    "\n",
    "    def reset_parameters(self):\n",
    "\n",
    "        for conv in self.convs:\n",
    "            conv.reset_parameters()\n",
    "\n",
    "        for bn in self.bns:\n",
    "            if not isinstance(bn, nn.Identity):\n",
    "                bn.reset_parameters()\n",
    "\n",
    "        nn.init.xavier_uniform_(self.emb_type.weight)\n",
    "\n",
    "        nn.init.xavier_uniform_(self.emb_direction.weight)\n",
    "\n",
    "    def forward(self, x, edge_index, edge_attr, edge_d):\n",
    "        edge_attr = self.emb_type(edge_attr) + self.emb_direction(edge_d)\n",
    "        for i, conv in enumerate(self.convs):\n",
    "            x = conv(x, edge_index, edge_attr)\n",
    "            x = self.bns[i](x)\n",
    "            x = self.activation(x)\n",
    "            x = self.dropout(x)\n",
    "        \n",
    "        x = self.regression(x)\n",
    "\n",
    "        return x.log_softmax(dim=-1)"
   ],
   "metadata": {
    "collapsed": false,
    "ExecuteTime": {
     "end_time": "2024-01-01T13:09:47.539235500Z",
     "start_time": "2024-01-01T13:09:47.464592800Z"
    }
   },
   "id": "b87b65dc989428b0"
  },
  {
   "cell_type": "code",
   "outputs": [],
   "source": [
    "def random_walk_neighbor_sampling(graph, center_node, hop_size):\n",
    "    # Perform random walk\n",
    "    walk = [center_node]\n",
    "    current_node = center_node\n",
    "    for _ in range(hop_size):\n",
    "        neighbors = list(graph.neighbors(current_node))\n",
    "        if len(neighbors) == 0:\n",
    "            break\n",
    "        current_node = np.random.choice(neighbors)\n",
    "        walk.append(current_node)\n",
    "\n",
    "    # Extract subgraph\n",
    "    subgraph = graph.subgraph(walk)\n",
    "    \n",
    "    # Map nodes to consecutive indices\n",
    "    node_map = {node: i for i, node in enumerate(subgraph.nodes())}\n",
    "    \n",
    "    # Relabel nodes\n",
    "    subgraph = nx.relabel_nodes(subgraph, node_map)\n",
    "    \n",
    "    # Get edge index\n",
    "    edge_index = torch.tensor(list(subgraph.edges())).t().contiguous()\n",
    "\n",
    "    # Create mask\n",
    "    mask = torch.zeros(subgraph.number_of_nodes(), dtype=torch.bool)\n",
    "    mask[torch.tensor(list(node_map.values()))] = True\n",
    "    \n",
    "    return subgraph, edge_index, node_map, mask"
   ],
   "metadata": {
    "collapsed": false,
    "ExecuteTime": {
     "end_time": "2024-01-01T13:09:47.573919700Z",
     "start_time": "2024-01-01T13:09:47.488354900Z"
    }
   },
   "id": "20c19d5dbacdf377",
   "execution_count": 13
  },
  {
   "cell_type": "code",
   "execution_count": 14,
   "outputs": [],
   "source": [
    "from torch_geometric.utils.subgraph import k_hop_subgraph\n",
    "\n",
    "def train(model, data, optimizer):\n",
    "    model.train()\n",
    "\n",
    "    optimizer.zero_grad()\n",
    "    neg_idx = data.train_neg[\n",
    "        torch.randperm(data.train_neg.size(0))[: data.train_pos.size(0)]\n",
    "    ]\n",
    "    train_idx = torch.cat([data.train_pos, neg_idx], dim=0)\n",
    "\n",
    "    \n",
    "    nodeandneighbor, edge_index, node_map, mask = k_hop_subgraph(\n",
    "        train_idx, 4, data.edge_index, relabel_nodes=True, num_nodes=data.x.size(0)\n",
    "    )\n",
    "    '''\n",
    "    nodeandneighbor, edge_index, node_map, mask = random_walk_neighbor_sampling(\n",
    "        train_idx, 3, data.edge_index\n",
    "    )\n",
    "    '''\n",
    "    out = model(\n",
    "        data.x[nodeandneighbor],\n",
    "        edge_index,\n",
    "        data.edge_attr[mask],\n",
    "        data.edge_direct[mask],\n",
    "    )\n",
    "    loss = F.nll_loss(out[node_map], data.y[train_idx])\n",
    "    loss.backward()\n",
    "\n",
    "    nn.utils.clip_grad_norm_(model.parameters(), 2.0)\n",
    "\n",
    "    optimizer.step()\n",
    "    torch.cuda.empty_cache()\n",
    "    return loss.item()"
   ],
   "metadata": {
    "collapsed": false,
    "ExecuteTime": {
     "end_time": "2024-01-01T13:09:47.576920700Z",
     "start_time": "2024-01-01T13:09:47.511640200Z"
    }
   },
   "id": "d722db4174cd5b7d"
  },
  {
   "cell_type": "code",
   "execution_count": 15,
   "outputs": [],
   "source": [
    "@torch.no_grad()\n",
    "def test(model, data):\n",
    "    model.eval()\n",
    "    out = model(\n",
    "        data.x, data.edge_index, data.edge_attr, data.edge_direct,\n",
    "    )\n",
    "\n",
    "    y_pred = out.exp()\n",
    "    return y_pred"
   ],
   "metadata": {
    "collapsed": false,
    "ExecuteTime": {
     "end_time": "2024-01-01T13:09:47.579430400Z",
     "start_time": "2024-01-01T13:09:47.535231800Z"
    }
   },
   "id": "a01bfb10249101e3"
  },
  {
   "cell_type": "code",
   "execution_count": 16,
   "outputs": [],
   "source": [
    "lr = 0.001\n",
    "l2 = 1e-5\n",
    "epochs = 30"
   ],
   "metadata": {
    "collapsed": false,
    "ExecuteTime": {
     "end_time": "2024-01-01T13:09:47.598344900Z",
     "start_time": "2024-01-01T13:09:47.548978600Z"
    }
   },
   "id": "a0d24d58ac37a284"
  },
  {
   "cell_type": "code",
   "execution_count": 17,
   "outputs": [
    {
     "name": "stdout",
     "output_type": "stream",
     "text": [
      "Model  initialized\n",
      "211976\n",
      "Epoch: 1, Loss: 0.711380, Train: 0.738066, Valid: 0.729344\n",
      "Epoch: 2, Loss: 0.636328, Train: 0.746809, Valid: 0.736826\n",
      "Epoch: 3, Loss: 0.610758, Train: 0.750632, Valid: 0.739065\n",
      "Epoch: 4, Loss: 0.604053, Train: 0.753097, Valid: 0.740910\n",
      "Epoch: 5, Loss: 0.603058, Train: 0.755278, Valid: 0.742440\n",
      "Epoch: 6, Loss: 0.586440, Train: 0.757268, Valid: 0.743858\n",
      "Epoch: 7, Loss: 0.593985, Train: 0.759566, Valid: 0.746063\n",
      "Epoch: 8, Loss: 0.584132, Train: 0.762388, Valid: 0.748481\n",
      "Epoch: 9, Loss: 0.576761, Train: 0.764859, Valid: 0.750712\n",
      "Epoch: 10, Loss: 0.569316, Train: 0.766862, Valid: 0.752987\n",
      "Epoch: 11, Loss: 0.576056, Train: 0.768821, Valid: 0.754870\n",
      "Epoch: 12, Loss: 0.573149, Train: 0.770528, Valid: 0.756973\n",
      "Epoch: 13, Loss: 0.567756, Train: 0.772122, Valid: 0.758744\n",
      "Epoch: 14, Loss: 0.566354, Train: 0.773456, Valid: 0.760532\n",
      "Epoch: 15, Loss: 0.565757, Train: 0.775028, Valid: 0.762464\n",
      "Epoch: 16, Loss: 0.560784, Train: 0.776480, Valid: 0.764152\n",
      "Epoch: 17, Loss: 0.567215, Train: 0.777842, Valid: 0.766084\n",
      "Epoch: 18, Loss: 0.550510, Train: 0.779329, Valid: 0.767689\n",
      "Epoch: 19, Loss: 0.554595, Train: 0.780671, Valid: 0.769144\n",
      "Epoch: 20, Loss: 0.555585, Train: 0.781899, Valid: 0.770769\n",
      "Epoch: 21, Loss: 0.548361, Train: 0.783261, Valid: 0.772418\n",
      "Epoch: 22, Loss: 0.552036, Train: 0.784906, Valid: 0.773963\n",
      "Epoch: 23, Loss: 0.552285, Train: 0.786569, Valid: 0.775776\n",
      "Epoch: 24, Loss: 0.541325, Train: 0.787950, Valid: 0.776834\n",
      "Epoch: 25, Loss: 0.550098, Train: 0.789327, Valid: 0.777877\n",
      "Epoch: 26, Loss: 0.552280, Train: 0.790328, Valid: 0.778325\n",
      "Epoch: 27, Loss: 0.548618, Train: 0.791073, Valid: 0.778828\n",
      "Epoch: 28, Loss: 0.535987, Train: 0.791819, Valid: 0.779272\n",
      "Epoch: 29, Loss: 0.539710, Train: 0.792837, Valid: 0.780235\n",
      "Epoch: 30, Loss: 0.536362, Train: 0.793746, Valid: 0.781366\n"
     ]
    }
   ],
   "source": [
    "model = SAGE(\n",
    "        in_channels=data.x.size(-1),\n",
    "        hidden_channels=256,\n",
    "        out_channels=2,\n",
    "        num_layers=3,\n",
    "        dropout=0.3,\n",
    "        activation=\"elu\",\n",
    "        bn=True,\n",
    "    ).to(device)\n",
    "\n",
    "print(f'Model  initialized')\n",
    "\n",
    "print(sum(p.numel() for p in model.parameters()))\n",
    "\n",
    "model.reset_parameters()\n",
    "optimizer = torch.optim.Adam(model.parameters(), lr=lr, weight_decay=l2)\n",
    "scheduler = optim.lr_scheduler.StepLR(optimizer, step_size=50, gamma=0.6)\n",
    "\n",
    "train_auces = []\n",
    "valid_auces = []\n",
    "\n",
    "best_valid_auc = 0.0\n",
    "best_model_path = 'best_model.pth' \n",
    "\n",
    "y_train, y_valid = data.y[data.train_mask].cpu().numpy(), data.y[data.valid_mask].cpu().numpy()\n",
    "\n",
    "for epoch in range(1, epochs + 1):\n",
    "    loss = train(model, data, optimizer)\n",
    "    out = test(model, data)\n",
    "    \n",
    "    preds_train, preds_valid = out[data.train_mask], out[data.valid_mask]\n",
    "    \n",
    "    train_auc = roc_auc_score(y_train, preds_train[:, 1].cpu().numpy())\n",
    "    valid_auc = roc_auc_score(y_valid, preds_valid[:, 1].cpu().numpy())\n",
    "    \n",
    "    train_auces.append(train_auc)\n",
    "    valid_auces.append(valid_auc)\n",
    "    \n",
    "    if valid_auc > best_valid_auc:\n",
    "        best_valid_auc = valid_auc\n",
    "        torch.save(model.state_dict(), best_model_path)\n",
    "\n",
    "    print(f'Epoch: {epoch:}, '\n",
    "        f'Loss: {loss:.6f}, '\n",
    "        f'Train: {train_auc:.6f}, '\n",
    "        f'Valid: {valid_auc:.6f}')\n",
    "    scheduler.step()"
   ],
   "metadata": {
    "collapsed": false,
    "ExecuteTime": {
     "end_time": "2024-01-01T13:15:23.654348700Z",
     "start_time": "2024-01-01T13:09:47.569919400Z"
    }
   },
   "id": "85b80d94c0c4682d"
  },
  {
   "cell_type": "code",
   "execution_count": 18,
   "outputs": [
    {
     "data": {
      "text/plain": "<Figure size 640x480 with 1 Axes>",
      "image/png": "[encoded data removed]"
     },
     "metadata": {},
     "output_type": "display_data"
    }
   ],
   "source": [
    "plt.plot(range(1, epochs + 1), train_auces, label='Train Auc')\n",
    "plt.plot(range(1, epochs + 1), valid_auces, label='Valid Auc')\n",
    "\n",
    "\n",
    "plt.title('Auc Variation Over Epochs')\n",
    "plt.xlabel('Epochs')\n",
    "plt.ylabel('Auc')\n",
    "\n",
    "plt.legend()\n",
    "plt.show()"
   ],
   "metadata": {
    "collapsed": false,
    "ExecuteTime": {
     "end_time": "2024-01-01T13:15:24.048146300Z",
     "start_time": "2024-01-01T13:15:23.664939400Z"
    }
   },
   "id": "c8cd59c095a8c573"
  },
  {
   "cell_type": "code",
   "execution_count": 19,
   "outputs": [
    {
     "name": "stdout",
     "output_type": "stream",
     "text": [
      "Train Accuracy: 0.9698310469563416\n",
      "Valid Accuracy: 0.969075769544554\n",
      "Train ROC AUC: 0.7937461254769576\n",
      "Valid ROC AUC: 0.7813660878632137\n"
     ]
    }
   ],
   "source": [
    "model = SAGE(\n",
    "        in_channels=data.x.size(-1),\n",
    "        hidden_channels=256,\n",
    "        out_channels=2,\n",
    "        num_layers=3,\n",
    "        dropout=0.3,\n",
    "        activation=\"elu\",\n",
    "        bn=True,\n",
    "    )\n",
    "model.load_state_dict(torch.load(best_model_path))\n",
    "model = model.to(device)\n",
    "\n",
    "out = test(model, data)\n",
    "\n",
    "# Extract predictions for training and validation sets\n",
    "preds_train, preds_valid = out[data.train_mask].cpu().numpy(), out[data.valid_mask].cpu().numpy()\n",
    "y_train, y_valid = data.y[data.train_mask].cpu().numpy(), data.y[data.valid_mask].cpu().numpy()\n",
    "\n",
    "# Threshold predictions to obtain binary values (0 or 1)\n",
    "threshold = 0.8\n",
    "binary_preds_train = (preds_train[:, 1] > threshold).astype(int)\n",
    "binary_preds_valid = (preds_valid[:, 1] > threshold).astype(int)\n",
    "\n",
    "# Compute accuracy\n",
    "accuracy_train = accuracy_score(y_train, binary_preds_train)\n",
    "accuracy_valid = accuracy_score(y_valid, binary_preds_valid)\n",
    "\n",
    "# Compute ROC AUC\n",
    "train_auc = roc_auc_score(y_train, preds_train[:, 1])\n",
    "valid_auc = roc_auc_score(y_valid, preds_valid[:, 1])\n",
    "\n",
    "# Print the results\n",
    "print('Train Accuracy:', accuracy_train)\n",
    "print('Valid Accuracy:', accuracy_valid)\n",
    "print('Train ROC AUC:', train_auc)\n",
    "print('Valid ROC AUC:', valid_auc)\n",
    "# 231662 228991\n",
    "# 154442 152621\n",
    "# MLP 0.8011"
   ],
   "metadata": {
    "collapsed": false,
    "ExecuteTime": {
     "end_time": "2024-01-01T13:15:34.658025Z",
     "start_time": "2024-01-01T13:15:24.044609500Z"
    }
   },
   "id": "610bf122f62ccbb"
  },
  {
   "cell_type": "code",
   "execution_count": 20,
   "outputs": [
    {
     "name": "stdout",
     "output_type": "stream",
     "text": [
      "3229   1821   149666   154442\n"
     ]
    }
   ],
   "source": [
    "print(np.sum(binary_preds_valid == 1), ' ', np.sum(y_valid == 1), ' ', np.sum(binary_preds_valid == y_valid), ' ', len(y_valid))"
   ],
   "metadata": {
    "collapsed": false,
    "ExecuteTime": {
     "end_time": "2024-01-01T13:15:34.712867800Z",
     "start_time": "2024-01-01T13:15:34.652023500Z"
    }
   },
   "id": "5347bc40fe2549dc"
  },
  {
   "cell_type": "code",
   "execution_count": 21,
   "outputs": [],
   "source": [
    "preds = out[data.test_mask].cpu().numpy()[:,1]\n",
    "result_df = pd.DataFrame({'index': split_idx['test'], 'predict': preds})\n",
    "\n",
    "result_df.to_csv('SAGE5.csv', index=False)"
   ],
   "metadata": {
    "collapsed": false,
    "ExecuteTime": {
     "end_time": "2024-01-01T13:15:35.014739600Z",
     "start_time": "2024-01-01T13:15:34.667737100Z"
    }
   },
   "id": "68254bd9c14d5a17"
  }
 ],
 "metadata": {
  "kernelspec": {
   "display_name": "Python 3",
   "language": "python",
   "name": "python3"
  },
  "language_info": {
   "codemirror_mode": {
    "name": "ipython",
    "version": 2
   },
   "file_extension": ".py",
   "mimetype": "text/x-python",
   "name": "python",
   "nbconvert_exporter": "python",
   "pygments_lexer": "ipython2",
   "version": "2.7.6"
  }
 },
 "nbformat": 4,
 "nbformat_minor": 5
}
