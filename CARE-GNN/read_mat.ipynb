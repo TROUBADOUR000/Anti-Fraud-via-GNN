{
 "cells": [
  {
   "cell_type": "code",
   "execution_count": 1,
   "id": "initial_id",
   "metadata": {
    "collapsed": true,
    "ExecuteTime": {
     "end_time": "2023-12-21T06:45:55.330079800Z",
     "start_time": "2023-12-21T06:45:54.327600300Z"
    }
   },
   "outputs": [],
   "source": [
    "from utils import sparse_to_adjlist\n",
    "from scipy.io import loadmat\n",
    "import pickle"
   ]
  },
  {
   "cell_type": "code",
   "execution_count": 2,
   "outputs": [],
   "source": [
    "prefix = 'data/'\n",
    "\n",
    "yelp = loadmat('data/YelpChi.mat')\n",
    "net_rur = yelp['net_rur']\n",
    "net_rtr = yelp['net_rtr']\n",
    "net_rsr = yelp['net_rsr']\n",
    "yelp_homo = yelp['homo']\n",
    "features = yelp['features']\n",
    "label = yelp['label']"
   ],
   "metadata": {
    "collapsed": false,
    "ExecuteTime": {
     "end_time": "2023-12-21T06:45:55.577411100Z",
     "start_time": "2023-12-21T06:45:55.331082400Z"
    }
   },
   "id": "ab54b17fb10f0a74"
  },
  {
   "cell_type": "code",
   "execution_count": 3,
   "outputs": [
    {
     "data": {
      "text/plain": "{'__header__': b'MATLAB 5.0 MAT-file Platform: posix, Created on: Wed Aug 19 20:09:02 2020',\n '__version__': '1.0',\n '__globals__': [],\n 'homo': <45954x45954 sparse matrix of type '<class 'numpy.float64'>'\n \twith 7693958 stored elements in Compressed Sparse Column format>,\n 'net_rur': <45954x45954 sparse matrix of type '<class 'numpy.float64'>'\n \twith 98630 stored elements in Compressed Sparse Column format>,\n 'net_rtr': <45954x45954 sparse matrix of type '<class 'numpy.float64'>'\n \twith 1147232 stored elements in Compressed Sparse Column format>,\n 'net_rsr': <45954x45954 sparse matrix of type '<class 'numpy.float64'>'\n \twith 6805486 stored elements in Compressed Sparse Column format>,\n 'features': <45954x32 sparse matrix of type '<class 'numpy.float64'>'\n \twith 1469088 stored elements in Compressed Sparse Column format>,\n 'label': array([[0, 0, 0, ..., 0, 0, 0]], dtype=int64)}"
     },
     "execution_count": 3,
     "metadata": {},
     "output_type": "execute_result"
    }
   ],
   "source": [
    "yelp"
   ],
   "metadata": {
    "collapsed": false,
    "ExecuteTime": {
     "end_time": "2023-12-21T06:45:55.603497900Z",
     "start_time": "2023-12-21T06:45:55.577411100Z"
    }
   },
   "id": "f9cd136139711d70"
  },
  {
   "cell_type": "code",
   "execution_count": 4,
   "outputs": [
    {
     "name": "stdout",
     "output_type": "stream",
     "text": [
      "['x', 'y', 'edge_type', 'edge_index', 'train_mask', 'test_mask']\n"
     ]
    }
   ],
   "source": [
    "import numpy as np\n",
    "# 读取 npz 文件\n",
    "data = np.load('E:\\pythonProject\\Fraud_Detection\\data.npz', allow_pickle=True)\n",
    "print(list(data.keys()))"
   ],
   "metadata": {
    "collapsed": false,
    "ExecuteTime": {
     "end_time": "2023-12-21T06:45:55.638407800Z",
     "start_time": "2023-12-21T06:45:55.593913400Z"
    }
   },
   "id": "a5dfd51431c72daa"
  },
  {
   "cell_type": "code",
   "execution_count": 5,
   "outputs": [
    {
     "data": {
      "text/plain": "array([   1,    1,    1, ...,    0, -100,    0], dtype=int64)"
     },
     "execution_count": 5,
     "metadata": {},
     "output_type": "execute_result"
    }
   ],
   "source": [
    "data['y']"
   ],
   "metadata": {
    "collapsed": false,
    "ExecuteTime": {
     "end_time": "2023-12-21T06:45:55.641916900Z",
     "start_time": "2023-12-21T06:45:55.611980500Z"
    }
   },
   "id": "a2d127d207eea9ad"
  },
  {
   "cell_type": "code",
   "execution_count": 6,
   "outputs": [
    {
     "data": {
      "text/plain": "array([[ 0.00000000e+00,  6.00000000e+00, -1.00000000e+00, ...,\n        -1.00000000e+00, -1.00000000e+00, -1.00000000e+00],\n       [ 0.00000000e+00,  3.00000000e+00, -1.00000000e+00, ...,\n        -1.00000000e+00, -1.00000000e+00, -1.00000000e+00],\n       [ 0.00000000e+00,  5.00000000e+00, -1.00000000e+00, ...,\n        -1.00000000e+00, -1.00000000e+00, -1.00000000e+00],\n       ...,\n       [ 1.00000000e+00,  4.00000000e+00, -1.00000000e+00, ...,\n        -1.00000000e+00, -1.00000000e+00, -1.00000000e+00],\n       [ 0.00000000e+00,  3.00000000e+00, -1.00000000e+00, ...,\n        -1.00000000e+00, -1.00000000e+00, -1.00000000e+00],\n       [ 1.00000000e+00,  4.00000000e+00,  1.01000000e+00, ...,\n         8.57142857e-01,  4.95049505e-03,  1.42857143e-01]])"
     },
     "execution_count": 6,
     "metadata": {},
     "output_type": "execute_result"
    }
   ],
   "source": [
    "data['x']"
   ],
   "metadata": {
    "collapsed": false,
    "ExecuteTime": {
     "end_time": "2023-12-21T06:45:55.748988Z",
     "start_time": "2023-12-21T06:45:55.625826800Z"
    }
   },
   "id": "c94821703d1e3ecf"
  },
  {
   "cell_type": "code",
   "execution_count": 7,
   "outputs": [
    {
     "data": {
      "text/plain": "array([ 6,  5,  6, ..., 11,  9, 10], dtype=int64)"
     },
     "execution_count": 7,
     "metadata": {},
     "output_type": "execute_result"
    }
   ],
   "source": [
    "data['edge_type']"
   ],
   "metadata": {
    "collapsed": false,
    "ExecuteTime": {
     "end_time": "2023-12-21T06:45:55.778936800Z",
     "start_time": "2023-12-21T06:45:55.749998400Z"
    }
   },
   "id": "cd0867d541891fc4"
  },
  {
   "cell_type": "code",
   "execution_count": 8,
   "outputs": [
    {
     "name": "stdout",
     "output_type": "stream",
     "text": [
      "Edge Type 1: 18766 occurrences\n",
      "Edge Type 2: 1758 occurrences\n",
      "Edge Type 3: 2949 occurrences\n",
      "Edge Type 4: 35076 occurrences\n",
      "Edge Type 5: 63909 occurrences\n",
      "Edge Type 6: 26108 occurrences\n",
      "Edge Type 7: 107 occurrences\n",
      "Edge Type 8: 5044 occurrences\n",
      "Edge Type 9: 5589 occurrences\n",
      "Edge Type 10: 5493 occurrences\n",
      "Edge Type 11: 2760 occurrences\n"
     ]
    }
   ],
   "source": [
    "edge_types = data['edge_type']\n",
    "\n",
    "# 使用 np.unique 统计每个元素的个数\n",
    "unique_elements, counts = np.unique(edge_types, return_counts=True)\n",
    "\n",
    "# 将结果放入字典\n",
    "counts_dict = dict(zip(unique_elements, counts))\n",
    "\n",
    "# 输出每种元素的个数\n",
    "for element, count in counts_dict.items():\n",
    "    print(f\"Edge Type {element}: {count} occurrences\")"
   ],
   "metadata": {
    "collapsed": false,
    "ExecuteTime": {
     "end_time": "2023-12-21T06:45:55.827385Z",
     "start_time": "2023-12-21T06:45:55.766357300Z"
    }
   },
   "id": "ede52b2751d49736"
  },
  {
   "cell_type": "code",
   "execution_count": 9,
   "outputs": [
    {
     "data": {
      "text/plain": "array([[410472,  19609],\n       [205686, 359744],\n       [469991, 488834],\n       ...,\n       [241907, 450710],\n       [577465, 210486],\n       [308446, 335478]], dtype=int64)"
     },
     "execution_count": 9,
     "metadata": {},
     "output_type": "execute_result"
    }
   ],
   "source": [
    "data['edge_index']"
   ],
   "metadata": {
    "collapsed": false,
    "ExecuteTime": {
     "end_time": "2023-12-21T06:45:55.828622200Z",
     "start_time": "2023-12-21T06:45:55.793734400Z"
    }
   },
   "id": "e2bba8c67f9872f0"
  },
  {
   "cell_type": "code",
   "execution_count": 10,
   "outputs": [],
   "source": [
    "import scipy.sparse as sp"
   ],
   "metadata": {
    "collapsed": false,
    "ExecuteTime": {
     "end_time": "2023-12-21T06:45:55.829718500Z",
     "start_time": "2023-12-21T06:45:55.810407400Z"
    }
   },
   "id": "482f3f392a874e7b"
  },
  {
   "cell_type": "code",
   "execution_count": 11,
   "outputs": [],
   "source": [
    "with open(\"E:\\pythonProject\\Fraud_Detection\\extended_graphs_data.pkl\", \"rb\") as file:\n",
    "    d = pickle.load(file)\n",
    "    file.close()"
   ],
   "metadata": {
    "collapsed": false,
    "ExecuteTime": {
     "end_time": "2023-12-21T06:46:00.120196100Z",
     "start_time": "2023-12-21T06:45:55.825949Z"
    }
   },
   "id": "6515f9ec558abae2"
  },
  {
   "cell_type": "code",
   "execution_count": 12,
   "outputs": [
    {
     "name": "stdout",
     "output_type": "stream",
     "text": [
      "  (0, 1)\t6.0\n",
      "  (0, 34)\t1.0\n",
      "  (0, 35)\t1.0\n",
      "  (0, 36)\t1.0\n",
      "  (0, 37)\t1.0\n",
      "  (0, 38)\t1.0\n",
      "  (0, 39)\t1.0\n",
      "  (0, 40)\t1.0\n",
      "  (0, 41)\t1.0\n",
      "  (0, 43)\t1.0\n",
      "  (0, 44)\t1.0\n",
      "  (0, 45)\t1.0\n",
      "  (0, 46)\t1.0\n",
      "  (0, 47)\t1.0\n",
      "  (0, 48)\t1.0\n",
      "  (1, 1)\t3.0\n",
      "  (1, 34)\t1.0\n",
      "  (1, 35)\t1.0\n",
      "  (1, 36)\t1.0\n",
      "  (1, 37)\t1.0\n",
      "  (1, 38)\t1.0\n",
      "  (1, 39)\t1.0\n",
      "  (1, 40)\t1.0\n",
      "  (1, 41)\t1.0\n",
      "  (1, 43)\t1.0\n",
      "  :\t:\n",
      "  (579155, 41)\t1.0\n",
      "  (579155, 43)\t1.0\n",
      "  (579155, 44)\t1.0\n",
      "  (579155, 45)\t1.0\n",
      "  (579155, 46)\t1.0\n",
      "  (579155, 47)\t1.0\n",
      "  (579155, 48)\t1.0\n",
      "  (579155, 49)\t1.0\n",
      "  (579156, 0)\t1.0\n",
      "  (579156, 1)\t4.0\n",
      "  (579156, 2)\t1.01\n",
      "  (579156, 3)\t0.83\n",
      "  (579156, 4)\t0.8217822\n",
      "  (579156, 5)\t0.7\n",
      "  (579156, 6)\t2.451\n",
      "  (579156, 7)\t0.039\n",
      "  (579156, 8)\t2.41\n",
      "  (579156, 9)\t0.98327214\n",
      "  (579156, 10)\t1.0\n",
      "  (579156, 11)\t0.17821783\n",
      "  (579156, 12)\t0.016727867\n",
      "  (579156, 13)\t0.042168673\n",
      "  (579156, 14)\t0.85714287\n",
      "  (579156, 15)\t0.004950495\n",
      "  (579156, 16)\t0.14285715\n"
     ]
    }
   ],
   "source": [
    "dense_matrix = d.x\n",
    "sparse_matrix = sp.csr_matrix(dense_matrix)\n",
    "print(sparse_matrix)"
   ],
   "metadata": {
    "collapsed": false,
    "ExecuteTime": {
     "end_time": "2023-12-21T06:46:00.761307800Z",
     "start_time": "2023-12-21T06:46:00.122195900Z"
    }
   },
   "id": "442758de5c62d1eb"
  },
  {
   "cell_type": "code",
   "execution_count": 13,
   "outputs": [
    {
     "name": "stdout",
     "output_type": "stream",
     "text": [
      "  (410472, 19609)\t6.0\n",
      "  (205686, 359744)\t5.0\n",
      "  (469991, 488834)\t6.0\n",
      "  (186516, 172498)\t1.0\n",
      "  (380073, 60100)\t1.0\n",
      "  (380073, 30305)\t5.0\n",
      "  (412851, 463368)\t11.0\n",
      "  (445156, 500952)\t1.0\n",
      "  (434388, 240028)\t5.0\n",
      "  (477700, 330803)\t4.0\n",
      "  (359022, 468600)\t4.0\n",
      "  (167283, 215248)\t6.0\n",
      "  (365311, 62743)\t5.0\n",
      "  (122233, 567623)\t5.0\n",
      "  (487327, 159648)\t5.0\n",
      "  (540681, 443492)\t5.0\n",
      "  (459250, 251885)\t5.0\n",
      "  (346598, 121439)\t5.0\n",
      "  (292022, 91877)\t6.0\n",
      "  (292022, 483375)\t6.0\n",
      "  (321909, 121701)\t5.0\n",
      "  (321909, 221874)\t5.0\n",
      "  (79858, 554266)\t6.0\n",
      "  (416052, 147542)\t5.0\n",
      "  (266412, 87102)\t6.0\n",
      "  :\t:\n",
      "  (219830, 253783)\t11.0\n",
      "  (575226, 559172)\t10.0\n",
      "  (27518, 69931)\t9.0\n",
      "  (471501, 135349)\t11.0\n",
      "  (411845, 244809)\t9.0\n",
      "  (200084, 330993)\t9.0\n",
      "  (328413, 477630)\t10.0\n",
      "  (476264, 26617)\t9.0\n",
      "  (243335, 439795)\t9.0\n",
      "  (115260, 119652)\t9.0\n",
      "  (412966, 4320)\t11.0\n",
      "  (17360, 230372)\t11.0\n",
      "  (474848, 301574)\t9.0\n",
      "  (474848, 412294)\t9.0\n",
      "  (573138, 516079)\t10.0\n",
      "  (332648, 213792)\t9.0\n",
      "  (83801, 134475)\t11.0\n",
      "  (37033, 214153)\t10.0\n",
      "  (205249, 566312)\t9.0\n",
      "  (411829, 104931)\t11.0\n",
      "  (276549, 33545)\t11.0\n",
      "  (276549, 426085)\t11.0\n",
      "  (241907, 450710)\t11.0\n",
      "  (577465, 210486)\t9.0\n",
      "  (308446, 335478)\t10.0\n"
     ]
    }
   ],
   "source": [
    "edge_type = data['edge_type']\n",
    "edge_index = data['edge_index']\n",
    "\n",
    "adj_matrix = sp.coo_matrix((edge_type.flatten(), (edge_index[:, 0], edge_index[:, 1])),\n",
    "                           shape=(579157, 579157),\n",
    "                           dtype=np.float32)\n",
    "print(adj_matrix)"
   ],
   "metadata": {
    "collapsed": false,
    "ExecuteTime": {
     "end_time": "2023-12-21T06:46:00.810134900Z",
     "start_time": "2023-12-21T06:46:00.748268400Z"
    }
   },
   "id": "705b5858dd0243fb"
  },
  {
   "cell_type": "code",
   "execution_count": 14,
   "outputs": [],
   "source": [
    "num_edge_types = 11\n",
    "# 初始化三个稀疏矩阵\n",
    "net_rur = sp.coo_matrix(([], ([], [])), shape=(579157, 579157), dtype=np.float32)\n",
    "net_rtr = sp.coo_matrix(([], ([], [])), shape=(579157, 579157), dtype=np.float32)\n",
    "net_rsr = sp.coo_matrix(([], ([], [])), shape=(579157, 579157), dtype=np.float32)\n",
    "\n",
    "c1 = [2,3,7,11]\n",
    "c2 = [1,8,9,10]\n",
    "c3 = [4,5,6]\n",
    "\n",
    "# 根据边的类型将边分为三类\n",
    "for i in range(1, num_edge_types + 1):\n",
    "    indices = np.where(edge_type == i)[0]\n",
    "    \n",
    "    if i in c1:\n",
    "        net_rur += sp.coo_matrix((np.ones_like(indices), (edge_index[indices, 0], edge_index[indices, 1])),\n",
    "                                 shape=(579157, 579157),\n",
    "                                 dtype=np.float32)\n",
    "    elif i in c2:\n",
    "        net_rtr += sp.coo_matrix((np.ones_like(indices), (edge_index[indices, 0], edge_index[indices, 1])),\n",
    "                                 shape=(579157, 579157),\n",
    "                                 dtype=np.float32)\n",
    "    elif i in c3:\n",
    "        net_rsr += sp.coo_matrix((np.ones_like(indices), (edge_index[indices, 0], edge_index[indices, 1])),\n",
    "                                 shape=(579157, 579157),\n",
    "                                 dtype=np.float32)"
   ],
   "metadata": {
    "collapsed": false,
    "ExecuteTime": {
     "end_time": "2023-12-21T06:46:00.930351Z",
     "start_time": "2023-12-21T06:46:00.780838Z"
    }
   },
   "id": "89e96c3f64e4f877"
  },
  {
   "cell_type": "code",
   "execution_count": 15,
   "outputs": [
    {
     "data": {
      "text/plain": "<579157x579157 sparse matrix of type '<class 'numpy.float32'>'\n\twith 7574 stored elements in Compressed Sparse Row format>"
     },
     "execution_count": 15,
     "metadata": {},
     "output_type": "execute_result"
    }
   ],
   "source": [
    "net_rur"
   ],
   "metadata": {
    "collapsed": false,
    "ExecuteTime": {
     "end_time": "2023-12-21T06:46:00.947159100Z",
     "start_time": "2023-12-21T06:46:00.932572700Z"
    }
   },
   "id": "99c1460ac40355a1"
  },
  {
   "cell_type": "code",
   "execution_count": 16,
   "outputs": [
    {
     "data": {
      "text/plain": "<579157x579157 sparse matrix of type '<class 'numpy.float32'>'\n\twith 34892 stored elements in Compressed Sparse Row format>"
     },
     "execution_count": 16,
     "metadata": {},
     "output_type": "execute_result"
    }
   ],
   "source": [
    "net_rtr"
   ],
   "metadata": {
    "collapsed": false,
    "ExecuteTime": {
     "end_time": "2023-12-21T06:46:00.991703500Z",
     "start_time": "2023-12-21T06:46:00.950274500Z"
    }
   },
   "id": "dddcff4e5f1704ba"
  },
  {
   "cell_type": "code",
   "execution_count": 17,
   "outputs": [
    {
     "data": {
      "text/plain": "<579157x579157 sparse matrix of type '<class 'numpy.float32'>'\n\twith 125093 stored elements in Compressed Sparse Row format>"
     },
     "execution_count": 17,
     "metadata": {},
     "output_type": "execute_result"
    }
   ],
   "source": [
    "net_rsr"
   ],
   "metadata": {
    "collapsed": false,
    "ExecuteTime": {
     "end_time": "2023-12-21T06:46:00.994222800Z",
     "start_time": "2023-12-21T06:46:00.964581900Z"
    }
   },
   "id": "9abd8510395feadc"
  },
  {
   "cell_type": "code",
   "execution_count": 18,
   "outputs": [
    {
     "name": "stdout",
     "output_type": "stream",
     "text": [
      "Data saved to fraud.mat\n"
     ]
    }
   ],
   "source": [
    "from scipy.io import savemat\n",
    "\n",
    "# Create a dictionary to store your data with appropriate keys\n",
    "data_dict = {\n",
    "    'homo': adj_matrix,\n",
    "    'net_rur': net_rur,\n",
    "    'net_rtr': net_rtr,\n",
    "    'net_rsr': net_rsr,\n",
    "    'features': sparse_matrix,\n",
    "    'label': data['y']\n",
    "}\n",
    "\n",
    "# Provide the desired file name for your .mat file\n",
    "file_name = 'fraud.mat'\n",
    "\n",
    "# Save the data to the .mat file\n",
    "savemat(file_name, data_dict)\n",
    "\n",
    "print(f\"Data saved to {file_name}\")"
   ],
   "metadata": {
    "collapsed": false,
    "ExecuteTime": {
     "end_time": "2023-12-21T06:46:01.249062900Z",
     "start_time": "2023-12-21T06:46:00.979787100Z"
    }
   },
   "id": "c98180413c79ab1b"
  },
  {
   "cell_type": "code",
   "execution_count": 19,
   "outputs": [],
   "source": [
    "mat = loadmat(file_name)"
   ],
   "metadata": {
    "collapsed": false,
    "ExecuteTime": {
     "end_time": "2023-12-21T06:46:01.304644200Z",
     "start_time": "2023-12-21T06:46:01.244043Z"
    }
   },
   "id": "739867eb7e8c944b"
  },
  {
   "cell_type": "code",
   "execution_count": 20,
   "outputs": [
    {
     "data": {
      "text/plain": "{'__header__': b'MATLAB 5.0 MAT-file Platform: nt, Created on: Thu Dec 21 14:46:00 2023',\n '__version__': '1.0',\n '__globals__': [],\n 'homo': <579157x579157 sparse matrix of type '<class 'numpy.float32'>'\n \twith 167559 stored elements in Compressed Sparse Column format>,\n 'net_rur': <579157x579157 sparse matrix of type '<class 'numpy.float32'>'\n \twith 7574 stored elements in Compressed Sparse Column format>,\n 'net_rtr': <579157x579157 sparse matrix of type '<class 'numpy.float32'>'\n \twith 34892 stored elements in Compressed Sparse Column format>,\n 'net_rsr': <579157x579157 sparse matrix of type '<class 'numpy.float32'>'\n \twith 125093 stored elements in Compressed Sparse Column format>,\n 'features': <579157x50 sparse matrix of type '<class 'numpy.float32'>'\n \twith 9990475 stored elements in Compressed Sparse Column format>,\n 'label': array([[   1,    1,    1, ...,    0, -100,    0]], dtype=int64)}"
     },
     "execution_count": 20,
     "metadata": {},
     "output_type": "execute_result"
    }
   ],
   "source": [
    "mat"
   ],
   "metadata": {
    "collapsed": false,
    "ExecuteTime": {
     "end_time": "2023-12-21T06:46:01.320852600Z",
     "start_time": "2023-12-21T06:46:01.304644200Z"
    }
   },
   "id": "90f0a9f73414e1f1"
  }
 ],
 "metadata": {
  "kernelspec": {
   "display_name": "Python 3",
   "language": "python",
   "name": "python3"
  },
  "language_info": {
   "codemirror_mode": {
    "name": "ipython",
    "version": 2
   },
   "file_extension": ".py",
   "mimetype": "text/x-python",
   "name": "python",
   "nbconvert_exporter": "python",
   "pygments_lexer": "ipython2",
   "version": "2.7.6"
  }
 },
 "nbformat": 4,
 "nbformat_minor": 5
}
